{
  "nbformat": 4,
  "nbformat_minor": 0,
  "metadata": {
    "colab": {
      "name": "yolov3_sort.ipynb ",
      "provenance": [],
      "collapsed_sections": []
    },
    "kernelspec": {
      "name": "python3",
      "display_name": "Python 3"
    },
    "accelerator": "GPU"
  },
  "cells": [
    {
      "cell_type": "code",
      "metadata": {
        "id": "YhUE67LkRwDn",
        "colab_type": "code",
        "colab": {}
      },
      "source": [
        "# gitからソースを取得\n",
        "%cd /content\n",
        "!git clone https://github.com/yk-snow/Object_Tracking.git\n",
        "\n",
        "# ライブラリを取得\n",
        "%cd /content/Object_Tracking/Object-Detection-and-Tracking/OneStage/yolo/deep_sort_yolov3\n",
        "!pip install opencv-python scikit-learn scipy Pillow torch torchvision\n",
        "\n",
        "!pip uninstall -y tensorflow\n",
        "!pip install tensorflow-gpu==1.14\n",
        "\n",
        "#Youtubeダウンローダーをインストール\n",
        "!pip install youtube-dl\n",
        "!pip install moviepy\n",
        "\n",
        "%cd /content/Object_Tracking/Object-Detection-and-Tracking/OneStage/yolo/deep_sort_yolov3/model_data/ \n",
        "!wget https://pjreddie.com/media/files/yolov3.weights\n",
        "\n",
        "%cd /content/Object_Tracking/Object-Detection-and-Tracking/OneStage/yolo/deep_sort_yolov3/\n",
        "!python convert.py model_data/yolov3.cfg model_data/yolov3.weights model_data/yolo.h5"
      ],
      "execution_count": 0,
      "outputs": []
    },
    {
      "cell_type": "code",
      "metadata": {
        "id": "icpBfy1mXMPx",
        "colab_type": "code",
        "colab": {}
      },
      "source": [
        "!mkdir test_video\n",
        "!mkdir output\n",
        "%cd test_video\n",
        "!youtube-dl \"https://www.youtube.com/watch?v=b5PKfvMS_xU\"\n",
        "!mv *.mp4 test.mp4\n",
        "import cv2\n",
        "file_path = 'test.mp4'\n",
        "cap = cv2.VideoCapture(file_path)\n",
        "print(cap.get(cv2.CAP_PROP_FPS))\n",
        "\n",
        "from moviepy.editor import *\n",
        "file_path = \"test.mp4\"#編集したい動画のパス\n",
        "start = 134#切り出し開始時刻。秒で表現\n",
        "end = 164#切り出し終了時刻。同じく秒で表現\n",
        "save_path = \"sample_cut.mp4\"#編集後のファイル保存先とパス\n",
        "video = VideoFileClip(file_path).subclip(start, end)#ビデオのカット開始\n",
        "video.write_videofile(save_path,fps=30) # Many options...#書き込み"
      ],
      "execution_count": 0,
      "outputs": []
    },
    {
      "cell_type": "code",
      "metadata": {
        "id": "alRFpmvyZHrH",
        "colab_type": "code",
        "colab": {}
      },
      "source": [
        "%cd /content/Object_Tracking/Object-Detection-and-Tracking/OneStage/yolo/deep_sort_yolov3\n",
        "!python main.py -c person -i ./test_video/sample_cut.mp4"
      ],
      "execution_count": 0,
      "outputs": []
    },
    {
      "cell_type": "code",
      "metadata": {
        "id": "JUAQC8jbUS97",
        "colab_type": "code",
        "colab": {}
      },
      "source": [
        "import pickle\n",
        "f = open('sample.binaryfile','rb')\n",
        "pickle.load(f)"
      ],
      "execution_count": 0,
      "outputs": []
    }
  ]
}