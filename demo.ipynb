{
  "nbformat": 4,
  "nbformat_minor": 0,
  "metadata": {
    "colab": {
      "name": "yolov3_.ipynb",
      "provenance": [],
      "collapsed_sections": []
    },
    "kernelspec": {
      "name": "python3",
      "display_name": "Python 3"
    },
    "accelerator": "GPU"
  },
  "cells": [
    {
      "cell_type": "code",
      "metadata": {
        "id": "YhUE67LkRwDn",
        "colab_type": "code",
        "colab": {}
      },
      "source": [
        "# gitからソースを取得\n",
        "%cd /content\n",
        "!git clone https://github.com/yk-snow/Object_Tracking.git\n",
        "\n",
        "# ライブラリを取得\n",
        "%cd /content/Object_Tracking/Object-Detection-and-Tracking/OneStage/yolo/deep_sort_yolov3\n",
        "!pip install opencv-python scikit-learn scipy Pillow torch torchvision\n",
        "\n",
        "!pip uninstall -y tensorflow\n",
        "!pip install tensorflow-gpu==1.14\n",
        "\n",
        "#Youtubeダウンローダーをインストール\n",
        "!pip install youtube-dl\n",
        "\n",
        "%cd /content/Object_Tracking/Object-Detection-and-Tracking/OneStage/yolo/deep_sort_yolov3/model_data/ \n",
        "!wget https://pjreddie.com/media/files/yolov3.weights\n",
        "\n",
        "%cd /content/Object_Tracking/Object-Detection-and-Tracking/OneStage/yolo/deep_sort_yolov3/\n",
        "!python convert.py model_data/yolov3.cfg model_data/yolov3.weights model_data/yolo.h5"
      ],
      "execution_count": 0,
      "outputs": []
    },
    {
      "cell_type": "code",
      "metadata": {
        "id": "icpBfy1mXMPx",
        "colab_type": "code",
        "colab": {}
      },
      "source": [
        "!mkdir test_video\n",
        "!mkdir output\n",
        "%cd test_video\n",
        "!youtube-dl \"https://www.youtube.com/watch?v=mG-H1d6fvoo\"\n",
        "!mv *.mp4 test.mp4\n"
      ],
      "execution_count": 0,
      "outputs": []
    },
    {
      "cell_type": "code",
      "metadata": {
        "id": "alRFpmvyZHrH",
        "colab_type": "code",
        "colab": {}
      },
      "source": [
        "%cd /content/Object_Tracking/Object-Detection-and-Tracking/OneStage/yolo/deep_sort_yolov3\n",
        "!python main.py -c person -i ./test_video/test.mp4"
      ],
      "execution_count": 0,
      "outputs": []
    }
  ]
}